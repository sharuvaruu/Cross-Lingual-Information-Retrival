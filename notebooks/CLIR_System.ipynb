{
 "cells": [
  {
   "cell_type": "markdown",
   "metadata": {},
   "source": [
    "# Cross-Language Information Retrieval System\n",
    "This notebook demonstrates the training and evaluation of our CLIR system components."
   ]
  },
  {
   "cell_type": "code",
   "execution_count": null,
   "metadata": {},
   "source": [
    "import torch\n",
    "from transformers import M2M100ForConditionalGeneration, M2M100Tokenizer\n",
    "from sentence_transformers import SentenceTransformer\n",
    "import numpy as np\n",
    "import pandas as pd\n",
    "from sklearn.metrics.pairwise import cosine_similarity"
   ]
  },
  {
   "cell_type": "markdown",
   "metadata": {},
   "source": [
    "## 1. Load Models"
   ]
  },
  {
   "cell_type": "code",
   "execution_count": null,
   "metadata": {},
   "source": [
    "# Translation model\n",
    "translator_model = M2M100ForConditionalGeneration.from_pretrained(\"facebook/m2m100_418M\")\n",
    "translator_tokenizer = M2M100Tokenizer.from_pretrained(\"facebook/m2m100_418M\")\n",
    "\n",
    "# Sentence embedding model\n",
    "encoder_model = SentenceTransformer('sentence-transformers/paraphrase-multilingual-MiniLM-L12-v2')"
   ]
  },
  {
   "cell_type": "markdown",
   "metadata": {},
   "source": [
    "## 2. Translation Function"
   ]
  },
  {
   "cell_type": "code",
   "execution_count": null,
   "metadata": {},
   "source": [
    "def translate_text(text, target_lang=\"hi\"):\n",
    "    inputs = translator_tokenizer(text, return_tensors=\"pt\")\n",
    "    translated = translator_model.generate(\n",
    "        **inputs,\n",
    "        forced_bos_token_id=translator_tokenizer.get_lang_id(target_lang)\n",
    "    )\n",
    "    return translator_tokenizer.batch_decode(translated, skip_special_tokens=True)[0]"
   ]
  },
  {
   "cell_type": "markdown",
   "metadata": {},
   "source": [
    "## 3. Document Embedding and Similarity Search"
   ]
  },
  {
   "cell_type": "code",
   "execution_count": null,
   "metadata": {},
   "source": [
    "def compute_embeddings(texts):\n",
    "    return encoder_model.encode(texts)\n",
    "\n",
    "def search_documents(query, documents, threshold=0.5):\n",
    "    query_embedding = compute_embeddings(query)\n",
    "    results = []\n",
    "    \n",
    "    for doc in documents:\n",
    "        doc_embedding = compute_embeddings(doc['title'] + ' ' + doc['content'])\n",
    "        similarity = cosine_similarity([query_embedding], [doc_embedding])[0][0]\n",
    "        \n",
    "        if similarity > threshold:\n",
    "            results.append({\n",
    "                'document': doc,\n",
    "                'similarity': similarity\n",
    "            })\n",
    "    \n",
    "    return sorted(results, key=lambda x: x['similarity'], reverse=True)"
   ]
  },
  {
   "cell_type": "markdown",
   "metadata": {},
   "source": [
    "## 4. Evaluation"
   ]
  },
  {
   "cell_type": "code",
   "execution_count": null,
   "metadata": {},
   "source": [
    "# Sample evaluation data\n",
    "test_queries = [\n",
    "    \"machine learning applications\",\n",
    "    \"deep learning frameworks\",\n",
    "    \"neural networks\"\n",
    "]\n",
    "\n",
    "# Evaluate translation quality and search relevance\n",
    "for query in test_queries:\n",
    "    print(f\"Query: {query}\")\n",
    "    \n",
    "    # Test translation\n",
    "    translated = translate_text(query)\n",
    "    print(f\"Translated: {translated}\\n\")\n",
    "    \n",
    "    # Test search\n",
    "    results = search_documents(query, documents)\n",
    "    for result in results[:3]:\n",
    "        print(f\"Relevance: {result['similarity']:.3f}\")\n",
    "        print(f\"Title: {result['document']['title']}\")\n",
    "        print(\"---\")\n",
    "    print(\"\\n\")"
   ]
  }
 ],
 "metadata": {
  "kernelspec": {
   "display_name": "Python 3",
   "language": "python",
   "name": "python3"
  },
  "language_info": {
   "codemirror_mode": {
    "name": "ipython",
    "version": 3
   },
   "file_extension": ".py",
   "mimetype": "text/x-python",
   "name": "python",
   "nbconvert_exporter": "python",
   "pygments_lexer": "ipython3",
   "version": "3.8.0"
  }
 },
 "nbformat": 4,
 "nbformat_minor": 4
}